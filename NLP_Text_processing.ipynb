{
  "nbformat": 4,
  "nbformat_minor": 0,
  "metadata": {
    "colab": {
      "provenance": [],
      "authorship_tag": "ABX9TyMC5R+p4uDaHVVJhi6APs8d",
      "include_colab_link": true
    },
    "kernelspec": {
      "name": "python3",
      "display_name": "Python 3"
    },
    "language_info": {
      "name": "python"
    }
  },
  "cells": [
    {
      "cell_type": "markdown",
      "metadata": {
        "id": "view-in-github",
        "colab_type": "text"
      },
      "source": [
        "<a href=\"https://colab.research.google.com/github/EriTrn/My_Project/blob/main/NLP_Text_processing.ipynb\" target=\"_parent\"><img src=\"https://colab.research.google.com/assets/colab-badge.svg\" alt=\"Open In Colab\"/></a>"
      ]
    },
    {
      "cell_type": "code",
      "execution_count": 1,
      "metadata": {
        "colab": {
          "base_uri": "https://localhost:8080/"
        },
        "id": "iTLdxXbCojyR",
        "outputId": "958c5106-3108-4183-fa71-69bdc0933b51"
      },
      "outputs": [
        {
          "output_type": "stream",
          "name": "stdout",
          "text": [
            "Requirement already satisfied: nltk in /usr/local/lib/python3.10/dist-packages (3.8.1)\n",
            "Requirement already satisfied: click in /usr/local/lib/python3.10/dist-packages (from nltk) (8.1.7)\n",
            "Requirement already satisfied: joblib in /usr/local/lib/python3.10/dist-packages (from nltk) (1.4.2)\n",
            "Requirement already satisfied: regex>=2021.8.3 in /usr/local/lib/python3.10/dist-packages (from nltk) (2024.5.15)\n",
            "Requirement already satisfied: tqdm in /usr/local/lib/python3.10/dist-packages (from nltk) (4.66.5)\n"
          ]
        }
      ],
      "source": [
        "!pip install nltk"
      ]
    },
    {
      "cell_type": "code",
      "source": [
        "!pip install Sastrawi"
      ],
      "metadata": {
        "colab": {
          "base_uri": "https://localhost:8080/"
        },
        "id": "pj9-_rqyovZ1",
        "outputId": "9a530624-b8a1-4f17-bdfd-ade13401a125"
      },
      "execution_count": 2,
      "outputs": [
        {
          "output_type": "stream",
          "name": "stdout",
          "text": [
            "Collecting Sastrawi\n",
            "  Downloading Sastrawi-1.0.1-py2.py3-none-any.whl.metadata (909 bytes)\n",
            "Downloading Sastrawi-1.0.1-py2.py3-none-any.whl (209 kB)\n",
            "\u001b[2K   \u001b[90m━━━━━━━━━━━━━━━━━━━━━━━━━━━━━━━━━━━━━━━━\u001b[0m \u001b[32m209.7/209.7 kB\u001b[0m \u001b[31m2.8 MB/s\u001b[0m eta \u001b[36m0:00:00\u001b[0m\n",
            "\u001b[?25hInstalling collected packages: Sastrawi\n",
            "Successfully installed Sastrawi-1.0.1\n"
          ]
        }
      ]
    },
    {
      "cell_type": "code",
      "source": [
        "# Mengubah teks menjadi huruf kecil semua\n",
        "teks_asli = \"Saya suka belajar Machine Learning\"\n",
        "teks_lowercase = teks_asli.lower()\n",
        "\n",
        "print('teks asli:', teks_asli)\n",
        "print('teks yang diubah:', teks_lowercase)"
      ],
      "metadata": {
        "colab": {
          "base_uri": "https://localhost:8080/"
        },
        "id": "_YVBQgTmo1Yy",
        "outputId": "7435cc7b-ebf9-431d-a774-a24f66bca20b"
      },
      "execution_count": 4,
      "outputs": [
        {
          "output_type": "stream",
          "name": "stdout",
          "text": [
            "teks asli: Saya suka belajar Machine Learning\n",
            "teks yang diubah: saya suka belajar machine learning\n"
          ]
        }
      ]
    },
    {
      "cell_type": "code",
      "source": [
        "# Menghapus angka\n",
        "def hapus_angka(teks):\n",
        "    teks_tanpa_angka = ''.join([char for char in teks if not char.isdigit()])\n",
        "    return teks_tanpa_angka\n",
        "teks_dengan_angka = 'ini adalah contoh teks dengan angka 12345 yang akan dihapus.'\n",
        "teks_tanpa_angka = hapus_angka(teks_dengan_angka)\n",
        "\n",
        "print('teks asli:', teks_dengan_angka)\n",
        "print('teks yang diubah:', teks_tanpa_angka)"
      ],
      "metadata": {
        "colab": {
          "base_uri": "https://localhost:8080/"
        },
        "id": "p8CFaWcqpxhs",
        "outputId": "95bd2e7b-e471-47bf-81c1-3ef78bdb5625"
      },
      "execution_count": 6,
      "outputs": [
        {
          "output_type": "stream",
          "name": "stdout",
          "text": [
            "teks asli: ini adalah contoh teks dengan angka 12345 yang akan dihapus.\n",
            "teks yang diubah: ini adalah contoh teks dengan angka  yang akan dihapus.\n"
          ]
        }
      ]
    },
    {
      "cell_type": "code",
      "source": [
        "import re\n",
        "import string\n",
        "import nltk"
      ],
      "metadata": {
        "id": "qtOAqC24rCCL"
      },
      "execution_count": 29,
      "outputs": []
    },
    {
      "cell_type": "code",
      "source": [
        "from nltk.corpus import stopwords\n",
        "from nltk.tokenize import word_tokenize\n",
        "from Sastrawi.StopWordRemover.StopWordRemoverFactory import StopWordRemoverFactory\n",
        "from nltk.stem import PorterStemmer\n",
        "from nltk.stem import WordNetLemmatizer"
      ],
      "metadata": {
        "id": "bcI5MyyzwrdT"
      },
      "execution_count": 37,
      "outputs": []
    },
    {
      "cell_type": "code",
      "source": [
        "def hapus_angka_tidak_relevan(teks):\n",
        "    pola_angka_tidak_relevan = r\"\\b(?:\\d{1,3}[-\\.\\s]?)?(?:\\d{3}[-\\.\\s]?)?\\d{4,}\\b\"\n",
        "    hasil = re.sub(pola_angka_tidak_relevan, \"\", teks)\n",
        "    return hasil.strip()\n",
        "\n",
        "kalimat = 'Di sini ada 3 nomor rumah: 123, 456, dan 789. Silakan hubungi 081234567890 untuk informasi lebih lanjut.'\n",
        "kalimat_tanpa_angka = hapus_angka_tidak_relevan(kalimat)\n",
        "\n",
        "print('kalimat asli:', kalimat)\n",
        "print('kalimat yang diubah:', kalimat_tanpa_angka)"
      ],
      "metadata": {
        "colab": {
          "base_uri": "https://localhost:8080/"
        },
        "id": "iB7-omqgrSW7",
        "outputId": "8ecd01e4-abf1-4545-a7d3-f49fbf5ebd07"
      },
      "execution_count": 16,
      "outputs": [
        {
          "output_type": "stream",
          "name": "stdout",
          "text": [
            "kalimat asli: Di sini ada 3 nomor rumah: 123, 456, dan 789. Silakan hubungi 081234567890 untuk informasi lebih lanjut.\n",
            "kalimat yang diubah: Di sini ada 3 nomor rumah: 123, 456, dan 789. Silakan hubungi  untuk informasi lebih lanjut.\n"
          ]
        }
      ]
    },
    {
      "cell_type": "code",
      "source": [
        "def remove_punctuation(text):\n",
        "    punctuation_set = set(string.punctuation)\n",
        "    teks_tanpa_tanda_baca = ''.join([char for char in text if char not in punctuation_set])\n",
        "    return teks_tanpa_tanda_baca\n",
        "\n",
        "teks_asli = \"ini adalah contoh teks, dengan tanda baca! digunakan? untuk pengujian.\"\n",
        "teks_tanpa_tanda_baca = remove_punctuation(teks_asli)\n",
        "\n",
        "print('teks asli:', teks_asli)\n",
        "print('teks yang diubah:', teks_tanpa_tanda_baca)"
      ],
      "metadata": {
        "colab": {
          "base_uri": "https://localhost:8080/"
        },
        "id": "fna8BC-fttGD",
        "outputId": "99385516-7d6a-4f15-d084-594bdf76c4d9"
      },
      "execution_count": 15,
      "outputs": [
        {
          "output_type": "stream",
          "name": "stdout",
          "text": [
            "teks asli: ini adalah contoh teks, dengan tanda baca! digunakan? untuk pengujian.\n",
            "teks yang diubah: ini adalah contoh teks dengan tanda baca digunakan untuk pengujian\n"
          ]
        }
      ]
    },
    {
      "cell_type": "code",
      "source": [
        "teks = \" ini adalah teks dengan spasi di awal dan di akhir. \"\n",
        "teks_tanpa_spasi = teks.strip()\n",
        "\n",
        "print('teks asli:', teks)\n",
        "print('teks yang diubah:', teks_tanpa_spasi)"
      ],
      "metadata": {
        "colab": {
          "base_uri": "https://localhost:8080/"
        },
        "id": "pyhrZIADugpM",
        "outputId": "8406240e-2a77-40c2-a56a-5927c41617da"
      },
      "execution_count": 17,
      "outputs": [
        {
          "output_type": "stream",
          "name": "stdout",
          "text": [
            "teks asli:  ini adalah teks dengan spasi di awal dan di akhir. \n",
            "teks yang diubah: ini adalah teks dengan spasi di awal dan di akhir.\n"
          ]
        }
      ]
    },
    {
      "cell_type": "code",
      "source": [
        "teks_dengan_whitespace = \"ini adalah   contoh   kalimat    dengan spasi   didalamnya.\"\n",
        "teks_tanpa_whitespace = ' '.join(teks_dengan_whitespace.replace(\" \", \"\"))\n",
        "\n",
        "print('teks asli:', teks_dengan_whitespace)\n",
        "print('teks yang diubah:', teks_tanpa_whitespace)"
      ],
      "metadata": {
        "colab": {
          "base_uri": "https://localhost:8080/"
        },
        "id": "qX9X4CsmvcFQ",
        "outputId": "d0802829-f6a4-4649-f271-6e435c536cea"
      },
      "execution_count": 25,
      "outputs": [
        {
          "output_type": "stream",
          "name": "stdout",
          "text": [
            "teks asli: ini adalah   contoh   kalimat    dengan spasi   didalamnya.\n",
            "teks yang diubah: i n i a d a l a h c o n t o h k a l i m a t d e n g a n s p a s i d i d a l a m n y a .\n"
          ]
        }
      ]
    },
    {
      "cell_type": "code",
      "source": [
        "nltk.download('stopwords')\n",
        "nltk.download('punkt')\n",
        "\n",
        "teks = \"perekonomian indonesia sedang dalam pertumbuhan yang membanggakan\"\n",
        "tokens_kata = word_tokenize(teks)\n",
        "\n",
        "stopwords_indonesia = set(stopwords.words('indonesian'))\n",
        "kata_penting = [kata for kata in tokens_kata if kata.lower() not in stopwords_indonesia]\n",
        "teks_tanpa_stopwords = ' '.join(kata_penting)\n",
        "\n",
        "print('teks asli:', teks)\n",
        "print('teks yang diubah:', teks_tanpa_stopwords)"
      ],
      "metadata": {
        "colab": {
          "base_uri": "https://localhost:8080/"
        },
        "id": "Ieg-QYI0wxDA",
        "outputId": "3e53694b-058d-45fa-d86c-f45353294f42"
      },
      "execution_count": 32,
      "outputs": [
        {
          "output_type": "stream",
          "name": "stdout",
          "text": [
            "teks asli: perekonomian indonesia sedang dalam pertumbuhan yang membanggakan\n",
            "teks yang diubah: perekonomian indonesia pertumbuhan membanggakan\n"
          ]
        },
        {
          "output_type": "stream",
          "name": "stderr",
          "text": [
            "[nltk_data] Downloading package stopwords to /root/nltk_data...\n",
            "[nltk_data]   Package stopwords is already up-to-date!\n",
            "[nltk_data] Downloading package punkt to /root/nltk_data...\n",
            "[nltk_data]   Package punkt is already up-to-date!\n"
          ]
        }
      ]
    },
    {
      "cell_type": "code",
      "source": [
        "factory = StopWordRemoverFactory()\n",
        "stopwords_sastrawi = factory.get_stop_words()\n",
        "\n",
        "teks = \"perekonomian indonesia sedang dalam pertumbuhan yang membanggakan\"\n",
        "tokens_kata = word_tokenize(teks)\n",
        "\n",
        "kata_penting = [kata for kata in tokens_kata if kata.lower() not in stopwords_sastrawi]\n",
        "teks_tanpa_stopwords = ' '.join(kata_penting)\n",
        "\n",
        "print('teks asli:', teks)\n",
        "print('teks yang diubah:', teks_tanpa_stopwords)"
      ],
      "metadata": {
        "colab": {
          "base_uri": "https://localhost:8080/"
        },
        "id": "d6SO0SoMxPA-",
        "outputId": "aae51a2e-039b-4c0a-a599-67b7f28557e3"
      },
      "execution_count": 34,
      "outputs": [
        {
          "output_type": "stream",
          "name": "stdout",
          "text": [
            "teks asli: perekonomian indonesia sedang dalam pertumbuhan yang membanggakan\n",
            "teks yang diubah: perekonomian indonesia sedang pertumbuhan membanggakan\n"
          ]
        }
      ]
    },
    {
      "cell_type": "code",
      "source": [
        "# Inisialisasi stemmer\n",
        "stemmer = PorterStemmer()\n",
        "\n",
        "# Kata-kata asli\n",
        "words = [\"running\", \"runs\", \"runner\", \"ran\", \"easily\", \"fairness\", \"better\", \"best\", \"cats\", \"cacti\", \"geese\", \"rocks\", \"oxen\"]\n",
        "\n",
        "# Melakukan stemming pada setiap kata\n",
        "for word in words:\n",
        "    stemmed_word = stemmer.stem(word)\n",
        "    print(f\"Kata asli: {word}, Kata setelah stemming: {stemmed_word}\")"
      ],
      "metadata": {
        "colab": {
          "base_uri": "https://localhost:8080/"
        },
        "id": "u770NF8NA2yy",
        "outputId": "a02f2626-b353-4d69-9f9e-c739f5044d82"
      },
      "execution_count": 36,
      "outputs": [
        {
          "output_type": "stream",
          "name": "stdout",
          "text": [
            "Kata asli: running, Kata setelah stemming: run\n",
            "Kata asli: runs, Kata setelah stemming: run\n",
            "Kata asli: runner, Kata setelah stemming: runner\n",
            "Kata asli: ran, Kata setelah stemming: ran\n",
            "Kata asli: easily, Kata setelah stemming: easili\n",
            "Kata asli: fairness, Kata setelah stemming: fair\n",
            "Kata asli: better, Kata setelah stemming: better\n",
            "Kata asli: best, Kata setelah stemming: best\n",
            "Kata asli: cats, Kata setelah stemming: cat\n",
            "Kata asli: cacti, Kata setelah stemming: cacti\n",
            "Kata asli: geese, Kata setelah stemming: gees\n",
            "Kata asli: rocks, Kata setelah stemming: rock\n",
            "Kata asli: oxen, Kata setelah stemming: oxen\n"
          ]
        }
      ]
    },
    {
      "cell_type": "code",
      "source": [
        "# Download wordnet jika belum di-download\n",
        "nltk.download('wordnet')\n",
        "\n",
        "# Inisialisasi lemmatizer\n",
        "lemmatizer = WordNetLemmatizer()\n",
        "\n",
        "# Kata-kata asli\n",
        "words = [\"Run\", \"Cat\", \"Good\", \"Goose\", \"Rock\", \"City\", \"Big\", \"Happy\", \"Run\", \"Sleep\"]\n",
        "\n",
        "# Melakukan lematisasi pada setiap kata\n",
        "for word in words:\n",
        "    lemma_word = lemmatizer.lemmatize(word.lower())  # Mengonversi ke huruf kecil untuk memastikan pemrosesan yang konsisten\n",
        "    print(f\"Kata asli: {word}, Kata setelah lematisasi: {lemma_word}\")"
      ],
      "metadata": {
        "colab": {
          "base_uri": "https://localhost:8080/"
        },
        "id": "qWU5Z7PNBEBW",
        "outputId": "83a2ae89-9275-4ffa-e589-1cc52f78b576"
      },
      "execution_count": 38,
      "outputs": [
        {
          "output_type": "stream",
          "name": "stderr",
          "text": [
            "[nltk_data] Downloading package wordnet to /root/nltk_data...\n"
          ]
        },
        {
          "output_type": "stream",
          "name": "stdout",
          "text": [
            "Kata asli: Run, Kata setelah lematisasi: run\n",
            "Kata asli: Cat, Kata setelah lematisasi: cat\n",
            "Kata asli: Good, Kata setelah lematisasi: good\n",
            "Kata asli: Goose, Kata setelah lematisasi: goose\n",
            "Kata asli: Rock, Kata setelah lematisasi: rock\n",
            "Kata asli: City, Kata setelah lematisasi: city\n",
            "Kata asli: Big, Kata setelah lematisasi: big\n",
            "Kata asli: Happy, Kata setelah lematisasi: happy\n",
            "Kata asli: Run, Kata setelah lematisasi: run\n",
            "Kata asli: Sleep, Kata setelah lematisasi: sleep\n"
          ]
        }
      ]
    }
  ]
}