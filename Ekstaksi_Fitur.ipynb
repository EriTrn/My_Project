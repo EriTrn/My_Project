{
  "nbformat": 4,
  "nbformat_minor": 0,
  "metadata": {
    "colab": {
      "provenance": [],
      "authorship_tag": "ABX9TyOXUkZ6kDmQ0dTjRhenjrGj",
      "include_colab_link": true
    },
    "kernelspec": {
      "name": "python3",
      "display_name": "Python 3"
    },
    "language_info": {
      "name": "python"
    }
  },
  "cells": [
    {
      "cell_type": "markdown",
      "metadata": {
        "id": "view-in-github",
        "colab_type": "text"
      },
      "source": [
        "<a href=\"https://colab.research.google.com/github/EriTrn/My_Project/blob/main/Ekstaksi_Fitur.ipynb\" target=\"_parent\"><img src=\"https://colab.research.google.com/assets/colab-badge.svg\" alt=\"Open In Colab\"/></a>"
      ]
    },
    {
      "cell_type": "code",
      "execution_count": 24,
      "metadata": {
        "id": "joxwYD6WZQ5w"
      },
      "outputs": [],
      "source": [
        "from gensim.models import Word2Vec\n",
        "from nltk.tokenize import word_tokenize\n",
        "import nltk\n",
        "from nltk.util import ngrams\n",
        "from sklearn.feature_extraction.text import TfidfVectorizer\n",
        "from sklearn.feature_extraction.text import CountVectorizer"
      ]
    },
    {
      "cell_type": "code",
      "source": [
        "nltk.download('punkt')"
      ],
      "metadata": {
        "colab": {
          "base_uri": "https://localhost:8080/"
        },
        "id": "4iKS1fu0ZfrA",
        "outputId": "10c582aa-2f63-435c-a4a7-3556ebc26760"
      },
      "execution_count": 2,
      "outputs": [
        {
          "output_type": "stream",
          "name": "stderr",
          "text": [
            "[nltk_data] Downloading package punkt to /root/nltk_data...\n",
            "[nltk_data]   Unzipping tokenizers/punkt.zip.\n"
          ]
        },
        {
          "output_type": "execute_result",
          "data": {
            "text/plain": [
              "True"
            ]
          },
          "metadata": {},
          "execution_count": 2
        }
      ]
    },
    {
      "cell_type": "code",
      "source": [
        "text_data = [\n",
        "    'Saya suka makan bakso',\n",
        "    'Bakso enak dan lezat',\n",
        "    'Makanan favorit saya adalah nasi goreng',\n",
        "    'Nasi goreng pedas adalah makanan favorit saya',\n",
        "    'Saya suka makanan manis seperti es krim',\n",
        "]"
      ],
      "metadata": {
        "id": "d1UZShL_Zqyi"
      },
      "execution_count": 3,
      "outputs": []
    },
    {
      "cell_type": "code",
      "source": [
        "# Melakukan tokenisasi\n",
        "tokenized_data = [word_tokenize(sentence.lower()) for sentence in text_data]"
      ],
      "metadata": {
        "id": "MiwErmC5ZvO8"
      },
      "execution_count": 4,
      "outputs": []
    },
    {
      "cell_type": "code",
      "source": [
        "# Membangun model Word2Vec menggunakan data teks yang sudah di tokenisasi\n",
        "model = Word2Vec(sentences=tokenized_data, vector_size=100, window=5, min_count=1, workers=4)"
      ],
      "metadata": {
        "id": "pnmqO7Z6Z_WB"
      },
      "execution_count": 5,
      "outputs": []
    },
    {
      "cell_type": "code",
      "source": [
        "# Mencari kata yang mirip\n",
        "word_vektor = model.wv\n",
        "\n",
        "similar_words = word_vektor.most_similar('bakso', topn=3)\n",
        "print(\"Kata-kata yang mirip dengan bakso: \", similar_words)\n",
        "\n",
        "vektor = word_vektor['bakso']\n",
        "print(\"Vektor untuk kata bakso: \", vektor)"
      ],
      "metadata": {
        "colab": {
          "base_uri": "https://localhost:8080/"
        },
        "id": "gzy3nRxhaaP7",
        "outputId": "a0db4949-9fd9-4da7-f4b5-0998aafca078"
      },
      "execution_count": 8,
      "outputs": [
        {
          "output_type": "stream",
          "name": "stdout",
          "text": [
            "Kata-kata yang mirip dengan bakso:  [('manis', 0.2529163062572479), ('nasi', 0.17018672823905945), ('enak', 0.15006466209888458)]\n",
            "Vektor untuk kata bakso:  [-0.00713882  0.00124156 -0.00717766 -0.00224369  0.00371885  0.00583258\n",
            "  0.00119832  0.00210183 -0.00411138  0.00722588 -0.00630644  0.00464789\n",
            " -0.00821918  0.00203677 -0.00497649 -0.00424685 -0.00310906  0.00565491\n",
            "  0.00579776 -0.00497439  0.00077378 -0.0084959   0.00780977  0.00925648\n",
            " -0.00274235  0.0007995   0.00074748  0.00547704 -0.00860589  0.00058358\n",
            "  0.00687019  0.00223141  0.00112457 -0.00932216  0.00848288 -0.0062632\n",
            " -0.00299165  0.00349458 -0.00077282  0.00141124  0.00178217 -0.00682961\n",
            " -0.00972456  0.00904072  0.00619895 -0.00691193  0.00340259  0.00020664\n",
            "  0.00475438 -0.00712046  0.00402629  0.00434812  0.00995727 -0.00447314\n",
            " -0.00138943 -0.00731689 -0.00969748 -0.00908048 -0.00102362 -0.00650396\n",
            "  0.0048507  -0.00616346  0.0025184   0.00073924 -0.00339173 -0.00097928\n",
            "  0.00997817  0.009146   -0.00446089  0.00908287 -0.00564239  0.00593029\n",
            " -0.00309763  0.00343232  0.00301726  0.00690047 -0.00237434  0.00877584\n",
            "  0.00759023 -0.00954767 -0.00800735 -0.00763848  0.0029233  -0.00279572\n",
            " -0.00692899 -0.00812822  0.0083084   0.0019909  -0.00932751 -0.00479288\n",
            "  0.00313647 -0.00471295  0.0052802  -0.00423267  0.00264146 -0.00804574\n",
            "  0.00620901  0.00481829  0.00078651  0.00301266]\n"
          ]
        }
      ]
    },
    {
      "cell_type": "code",
      "source": [
        "# inisialisasi objek\n",
        "tfidf_Vectorizer = TfidfVectorizer()"
      ],
      "metadata": {
        "id": "qNjG07dlbpoF"
      },
      "execution_count": 13,
      "outputs": []
    },
    {
      "cell_type": "code",
      "source": [
        "# Menghitung TF-IDF\n",
        "tfidf_matrix = tfidf_Vectorizer.fit_transform(text_data)"
      ],
      "metadata": {
        "id": "o_cyTTbjdBYj"
      },
      "execution_count": 15,
      "outputs": []
    },
    {
      "cell_type": "code",
      "source": [
        "# Melihat vocabulary\n",
        "print(\"Vocabulary: \", tfidf_Vectorizer.vocabulary_)"
      ],
      "metadata": {
        "colab": {
          "base_uri": "https://localhost:8080/"
        },
        "id": "dPBCZaQIdfS0",
        "outputId": "848a061e-1082-4ccc-f3e4-24ded6f7f9ff"
      },
      "execution_count": 16,
      "outputs": [
        {
          "output_type": "stream",
          "name": "stdout",
          "text": [
            "Vocabulary:  {'saya': 14, 'suka': 16, 'makan': 9, 'bakso': 1, 'enak': 3, 'dan': 2, 'lezat': 8, 'makanan': 10, 'favorit': 5, 'adalah': 0, 'nasi': 12, 'goreng': 6, 'pedas': 13, 'manis': 11, 'seperti': 15, 'es': 4, 'krim': 7}\n"
          ]
        }
      ]
    },
    {
      "cell_type": "code",
      "source": [
        "# Melihat hasil TF-IDF matriks dalam bentuk array\n",
        "print(\"TF-IDF Matrix: \\n\", tfidf_matrix.toarray())"
      ],
      "metadata": {
        "colab": {
          "base_uri": "https://localhost:8080/"
        },
        "id": "QXovNfk7eAsH",
        "outputId": "de812aed-ce36-4fc1-cf15-32ad5638401a"
      },
      "execution_count": 17,
      "outputs": [
        {
          "output_type": "stream",
          "name": "stdout",
          "text": [
            "TF-IDF Matrix: \n",
            " [[0.         0.49851188 0.         0.         0.         0.\n",
            "  0.         0.         0.         0.61789262 0.         0.\n",
            "  0.         0.         0.34810993 0.         0.49851188]\n",
            " [0.         0.42224214 0.52335825 0.52335825 0.         0.\n",
            "  0.         0.         0.52335825 0.         0.         0.\n",
            "  0.         0.         0.         0.         0.        ]\n",
            " [0.43951606 0.         0.         0.         0.         0.43951606\n",
            "  0.43951606 0.         0.         0.         0.36483803 0.\n",
            "  0.43951606 0.         0.30691325 0.         0.        ]\n",
            " [0.38596041 0.         0.         0.         0.         0.38596041\n",
            "  0.38596041 0.         0.         0.         0.320382   0.\n",
            "  0.38596041 0.47838798 0.26951544 0.         0.        ]\n",
            " [0.         0.         0.         0.         0.42966246 0.\n",
            "  0.         0.42966246 0.         0.         0.28774996 0.42966246\n",
            "  0.         0.         0.24206433 0.42966246 0.34664897]]\n"
          ]
        }
      ]
    },
    {
      "cell_type": "code",
      "source": [
        "vectorizer = CountVectorizer()"
      ],
      "metadata": {
        "id": "jQobEkiKeoKX"
      },
      "execution_count": 19,
      "outputs": []
    },
    {
      "cell_type": "code",
      "source": [
        "# Melakukan fitting dan transformasi\n",
        "bow_matrix = vectorizer.fit_transform(text_data)"
      ],
      "metadata": {
        "id": "Un8yXwTRevcU"
      },
      "execution_count": 20,
      "outputs": []
    },
    {
      "cell_type": "code",
      "source": [
        "bow_matrix.toarray()"
      ],
      "metadata": {
        "colab": {
          "base_uri": "https://localhost:8080/"
        },
        "id": "XilM84FbfAjv",
        "outputId": "280ac34f-9a5e-4902-a1f6-86d826f61cee"
      },
      "execution_count": 21,
      "outputs": [
        {
          "output_type": "execute_result",
          "data": {
            "text/plain": [
              "array([[0, 1, 0, 0, 0, 0, 0, 0, 0, 1, 0, 0, 0, 0, 1, 0, 1],\n",
              "       [0, 1, 1, 1, 0, 0, 0, 0, 1, 0, 0, 0, 0, 0, 0, 0, 0],\n",
              "       [1, 0, 0, 0, 0, 1, 1, 0, 0, 0, 1, 0, 1, 0, 1, 0, 0],\n",
              "       [1, 0, 0, 0, 0, 1, 1, 0, 0, 0, 1, 0, 1, 1, 1, 0, 0],\n",
              "       [0, 0, 0, 0, 1, 0, 0, 1, 0, 0, 1, 1, 0, 0, 1, 1, 1]])"
            ]
          },
          "metadata": {},
          "execution_count": 21
        }
      ]
    },
    {
      "cell_type": "code",
      "source": [
        "features = vectorizer.get_feature_names_out()"
      ],
      "metadata": {
        "id": "zeH_bBI9fJfg"
      },
      "execution_count": 22,
      "outputs": []
    },
    {
      "cell_type": "code",
      "source": [
        "print(\"Matriks Bow: \\n\", bow_matrix.toarray())\n",
        "print(\"Daftar Fitur: \\n\", features)"
      ],
      "metadata": {
        "colab": {
          "base_uri": "https://localhost:8080/"
        },
        "id": "HNUgQ2rcfQvk",
        "outputId": "9252c083-586c-414c-f61d-eecec0bd2bd8"
      },
      "execution_count": 23,
      "outputs": [
        {
          "output_type": "stream",
          "name": "stdout",
          "text": [
            "Matriks Bow: \n",
            " [[0 1 0 0 0 0 0 0 0 1 0 0 0 0 1 0 1]\n",
            " [0 1 1 1 0 0 0 0 1 0 0 0 0 0 0 0 0]\n",
            " [1 0 0 0 0 1 1 0 0 0 1 0 1 0 1 0 0]\n",
            " [1 0 0 0 0 1 1 0 0 0 1 0 1 1 1 0 0]\n",
            " [0 0 0 0 1 0 0 1 0 0 1 1 0 0 1 1 1]]\n",
            "Daftar Fitur: \n",
            " ['adalah' 'bakso' 'dan' 'enak' 'es' 'favorit' 'goreng' 'krim' 'lezat'\n",
            " 'makan' 'makanan' 'manis' 'nasi' 'pedas' 'saya' 'seperti' 'suka']\n"
          ]
        }
      ]
    },
    {
      "cell_type": "code",
      "source": [
        "# Iterasi setiap kalimat\n",
        "for sentence in text_data:\n",
        "  words = sentence.split()\n",
        "  unigrmas = list(ngrams(words, 1))\n",
        "  bigrams = list(ngrams(words, 2))\n",
        "  trigrams = list(ngrams(words, 3))"
      ],
      "metadata": {
        "id": "GQp6bXu1gHQ-"
      },
      "execution_count": 25,
      "outputs": []
    },
    {
      "cell_type": "code",
      "source": [
        "# Cetak tiap kalimat\n",
        "print(\"\\n Kalimat: \", sentence)\n",
        "print(\"1-gram: \")\n",
        "for gram in unigrmas:\n",
        "  print(gram)\n",
        "print(\"2-gram: \")\n",
        "for gram in bigrams:\n",
        "  print(gram)\n",
        "print(\"3-gram: \")\n",
        "for gram in trigrams:\n",
        "  print(gram)"
      ],
      "metadata": {
        "colab": {
          "base_uri": "https://localhost:8080/"
        },
        "id": "LArTo83Sgvs5",
        "outputId": "8de29ee5-0c09-4453-89cc-761b9bd1ac10"
      },
      "execution_count": 26,
      "outputs": [
        {
          "output_type": "stream",
          "name": "stdout",
          "text": [
            "\n",
            " Kalimat:  Saya suka makanan manis seperti es krim\n",
            "1-gram: \n",
            "('Saya',)\n",
            "('suka',)\n",
            "('makanan',)\n",
            "('manis',)\n",
            "('seperti',)\n",
            "('es',)\n",
            "('krim',)\n",
            "2-gram: \n",
            "('Saya', 'suka')\n",
            "('suka', 'makanan')\n",
            "('makanan', 'manis')\n",
            "('manis', 'seperti')\n",
            "('seperti', 'es')\n",
            "('es', 'krim')\n",
            "3-gram: \n",
            "('Saya', 'suka', 'makanan')\n",
            "('suka', 'makanan', 'manis')\n",
            "('makanan', 'manis', 'seperti')\n",
            "('manis', 'seperti', 'es')\n",
            "('seperti', 'es', 'krim')\n"
          ]
        }
      ]
    }
  ]
}